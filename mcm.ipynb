{
  "nbformat": 4,
  "nbformat_minor": 0,
  "metadata": {
    "colab": {
      "provenance": [],
      "authorship_tag": "ABX9TyOO1w8u2LMtCBujrPM6TOUh",
      "include_colab_link": true
    },
    "kernelspec": {
      "name": "python3",
      "display_name": "Python 3"
    },
    "language_info": {
      "name": "python"
    }
  },
  "cells": [
    {
      "cell_type": "markdown",
      "metadata": {
        "id": "view-in-github",
        "colab_type": "text"
      },
      "source": [
        "<a href=\"https://colab.research.google.com/github/andreavnessa/MinimoComunMultiplo/blob/main/mcm.ipynb\" target=\"_parent\"><img src=\"https://colab.research.google.com/assets/colab-badge.svg\" alt=\"Open In Colab\"/></a>"
      ]
    },
    {
      "cell_type": "code",
      "execution_count": null,
      "metadata": {
        "id": "TYNp0tRXciHE"
      },
      "outputs": [],
      "source": [
        "# Minimo Comun Multiplo\n",
        "\n",
        "def maximo_comun_divisor(a, b):\n",
        "    temporal = 0\n",
        "    while b != 0:\n",
        "        temporal = b\n",
        "        b = a % b\n",
        "        a = temporal\n",
        "    return a\n",
        "\n",
        "def minComunMultiplo(a,b):\n",
        "    return (a * b) / maximo_comun_divisor(a,b)\n",
        "\n",
        "a = 20\n",
        "b = 6\n",
        "mcm = minComunMultiplo(a,b)\n",
        "print(f'El minimo comun multiplo de {a} y {b} es {mcm} ')"
      ]
    }
  ]
}